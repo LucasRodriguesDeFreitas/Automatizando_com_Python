{
 "cells": [
  {
   "cell_type": "code",
   "execution_count": 9,
   "id": "d8f85eb7-0981-4399-9aa7-f4e70b114a10",
   "metadata": {},
   "outputs": [
    {
     "name": "stdin",
     "output_type": "stream",
     "text": [
      "Quantos produtos deseja atualizar:  100\n"
     ]
    },
    {
     "ename": "KeyboardInterrupt",
     "evalue": "",
     "output_type": "error",
     "traceback": [
      "\u001b[1;31m---------------------------------------------------------------------------\u001b[0m",
      "\u001b[1;31mKeyboardInterrupt\u001b[0m                         Traceback (most recent call last)",
      "\u001b[1;32m~\\AppData\\Local\\Temp/ipykernel_13540/3107995955.py\u001b[0m in \u001b[0;36m<module>\u001b[1;34m\u001b[0m\n\u001b[0;32m     50\u001b[0m \u001b[1;33m\u001b[0m\u001b[0m\n\u001b[0;32m     51\u001b[0m     \u001b[1;31m#ADICIONAR GUIA\u001b[0m\u001b[1;33m\u001b[0m\u001b[1;33m\u001b[0m\u001b[0m\n\u001b[1;32m---> 52\u001b[1;33m     \u001b[0mSelecionar_guia\u001b[0m\u001b[1;33m(\u001b[0m\u001b[1;33m)\u001b[0m\u001b[1;33m\u001b[0m\u001b[1;33m\u001b[0m\u001b[0m\n\u001b[0m\u001b[0;32m     53\u001b[0m     \u001b[1;31m#Voltar para o menu\u001b[0m\u001b[1;33m\u001b[0m\u001b[1;33m\u001b[0m\u001b[0m\n\u001b[0;32m     54\u001b[0m     \u001b[0mVoltar\u001b[0m\u001b[1;33m(\u001b[0m\u001b[1;33m)\u001b[0m\u001b[1;33m\u001b[0m\u001b[1;33m\u001b[0m\u001b[0m\n",
      "\u001b[1;32m~\\AppData\\Local\\Temp/ipykernel_13540/3107995955.py\u001b[0m in \u001b[0;36mSelecionar_guia\u001b[1;34m()\u001b[0m\n\u001b[0;32m      8\u001b[0m \u001b[1;31m#Função selecionar opção guia\u001b[0m\u001b[1;33m\u001b[0m\u001b[1;33m\u001b[0m\u001b[0m\n\u001b[0;32m      9\u001b[0m \u001b[1;32mdef\u001b[0m \u001b[0mSelecionar_guia\u001b[0m\u001b[1;33m(\u001b[0m\u001b[1;33m)\u001b[0m\u001b[1;33m:\u001b[0m\u001b[1;33m\u001b[0m\u001b[1;33m\u001b[0m\u001b[0m\n\u001b[1;32m---> 10\u001b[1;33m     \u001b[0mtime\u001b[0m\u001b[1;33m.\u001b[0m\u001b[0msleep\u001b[0m\u001b[1;33m(\u001b[0m\u001b[1;36m5\u001b[0m\u001b[1;33m)\u001b[0m\u001b[1;33m\u001b[0m\u001b[1;33m\u001b[0m\u001b[0m\n\u001b[0m\u001b[0;32m     11\u001b[0m     \u001b[0mpyautogui\u001b[0m\u001b[1;33m.\u001b[0m\u001b[0mclick\u001b[0m\u001b[1;33m(\u001b[0m\u001b[0mx\u001b[0m\u001b[1;33m=\u001b[0m\u001b[1;36m1337\u001b[0m\u001b[1;33m,\u001b[0m \u001b[0my\u001b[0m\u001b[1;33m=\u001b[0m\u001b[1;36m556\u001b[0m\u001b[1;33m)\u001b[0m\u001b[1;33m\u001b[0m\u001b[1;33m\u001b[0m\u001b[0m\n\u001b[0;32m     12\u001b[0m     \u001b[0mpyautogui\u001b[0m\u001b[1;33m.\u001b[0m\u001b[0mhotkey\u001b[0m\u001b[1;33m(\u001b[0m\u001b[1;34m\"ctrl\"\u001b[0m\u001b[1;33m,\u001b[0m\u001b[1;34m\"f\"\u001b[0m\u001b[1;33m)\u001b[0m\u001b[1;33m\u001b[0m\u001b[1;33m\u001b[0m\u001b[0m\n",
      "\u001b[1;31mKeyboardInterrupt\u001b[0m: "
     ]
    }
   ],
   "source": [
    "#Biblioteca\n",
    "import pyautogui\n",
    "import pyperclip\n",
    "import time\n",
    "pyautogui.PAUSE = 1\n",
    "s = -250\n",
    "r = int(input(\"Quantos produtos deseja atualizar: \"))\n",
    "#Função selecionar opção guia\n",
    "def Selecionar_guia():\n",
    "    time.sleep(5)\n",
    "    pyautogui.click(x=1337, y=556)\n",
    "    pyautogui.hotkey(\"ctrl\",\"f\")\n",
    "    pyautogui.write(\"guia de tamanhos\")\n",
    "    pyautogui.click(x=801, y=393)\n",
    "    pyautogui.hotkey(\"ctrl\",\"f\")\n",
    "    pyautogui.write(\"Blusa Manga Longa\")\n",
    "    pyautogui.click(x=197, y=448)\n",
    "    pyautogui.scroll(-800)\n",
    "    pyautogui.click(x=730, y=341)\n",
    "    time.sleep(10)\n",
    "    return\n",
    "\n",
    "#Função Voltar\n",
    "def Voltar():\n",
    "    pyautogui.hotkey(\"ctrl\",\"f5\")\n",
    "    time.sleep(5)\n",
    "    pyautogui.click(x=15, y=50)\n",
    "    time.sleep(5)\n",
    "    return\n",
    "    \n",
    "#Abrir Pagina\n",
    "time.sleep(3)\n",
    "pyautogui.click(x=875, y=749)\n",
    "\n",
    "a = r\n",
    "for i in range(1,a):\n",
    "    time.sleep(3)\n",
    "    pyautogui.click(x=1337, y=556)\n",
    "    pyautogui.scroll(2000)\n",
    "    time.sleep(2)\n",
    "    pyautogui.hotkey(\"ctrl\",\"f5\")\n",
    "    time.sleep(5)\n",
    "    #Selecionando item\n",
    "    pyautogui.hotkey(\"ctrl\",\"f\")\n",
    "    pyautogui.write(\"Qualidade Satisfa\")\n",
    "    pyautogui.hotkey(\"enter\")\n",
    "    pyautogui.click(x=1282, y=450)\n",
    "    time.sleep(5)\n",
    "    pyautogui.click(x=1132, y=485)\n",
    "\n",
    "    #ADICIONAR GUIA\n",
    "    Selecionar_guia()\n",
    "    #Voltar para o menu\n",
    "    Voltar()\n",
    "    time.sleep(3)\n"
   ]
  },
  {
   "cell_type": "code",
   "execution_count": null,
   "id": "b144303b-5339-4ee7-8682-ee1b195ab9cb",
   "metadata": {},
   "outputs": [
    {
     "name": "stdout",
     "output_type": "stream",
     "text": [
      "1\n"
     ]
    }
   ],
   "source": [
    "print(a)"
   ]
  },
  {
   "cell_type": "code",
   "execution_count": 15,
   "id": "fe30107e-f44d-4215-978f-67851f3409a6",
   "metadata": {},
   "outputs": [],
   "source": [
    "#Abrir Pagina\n",
    "time.sleep(3)\n",
    "pyautogui.click(x=875, y=749)\n",
    "\n",
    "pyautogui.click(x=1337, y=556)\n",
    "pyautogui.scroll(-800)"
   ]
  },
  {
   "cell_type": "code",
   "execution_count": 17,
   "id": "5e084284-a83e-4414-bd1e-d30c20a010b9",
   "metadata": {},
   "outputs": [
    {
     "data": {
      "text/plain": [
       "Point(x=1085, y=447)"
      ]
     },
     "execution_count": 17,
     "metadata": {},
     "output_type": "execute_result"
    }
   ],
   "source": [
    "import pyautogui\n",
    "import pyperclip\n",
    "import time\n",
    "time.sleep(5)\n",
    "pyautogui.position()"
   ]
  },
  {
   "cell_type": "code",
   "execution_count": 61,
   "id": "68edbd8d-4154-449a-a82f-f0bc73a4a430",
   "metadata": {},
   "outputs": [
    {
     "name": "stdout",
     "output_type": "stream",
     "text": [
      "-274\n"
     ]
    }
   ],
   "source": []
  },
  {
   "cell_type": "code",
   "execution_count": 74,
   "id": "f3bc4fab-9ffc-48a2-aeb1-89788b5ea55c",
   "metadata": {},
   "outputs": [
    {
     "name": "stdout",
     "output_type": "stream",
     "text": [
      "-253\n",
      "-256\n",
      "-259\n",
      "-262\n",
      "-265\n",
      "-268\n",
      "-268\n",
      "-268\n",
      "-268\n"
     ]
    }
   ],
   "source": []
  },
  {
   "cell_type": "code",
   "execution_count": null,
   "id": "f16ca832-055e-4ee2-ac7f-4afde45ed18d",
   "metadata": {},
   "outputs": [],
   "source": []
  },
  {
   "cell_type": "code",
   "execution_count": null,
   "id": "8ed43956-c954-4537-ad41-6ae997a32722",
   "metadata": {},
   "outputs": [],
   "source": []
  },
  {
   "cell_type": "code",
   "execution_count": null,
   "id": "f4f66a49-27b6-4b31-98bc-968bd2d90a53",
   "metadata": {},
   "outputs": [],
   "source": []
  }
 ],
 "metadata": {
  "kernelspec": {
   "display_name": "Python 3 (ipykernel)",
   "language": "python",
   "name": "python3"
  },
  "language_info": {
   "codemirror_mode": {
    "name": "ipython",
    "version": 3
   },
   "file_extension": ".py",
   "mimetype": "text/x-python",
   "name": "python",
   "nbconvert_exporter": "python",
   "pygments_lexer": "ipython3",
   "version": "3.9.7"
  }
 },
 "nbformat": 4,
 "nbformat_minor": 5
}
