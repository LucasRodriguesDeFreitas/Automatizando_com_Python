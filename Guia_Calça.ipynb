{
 "cells": [
  {
   "cell_type": "raw",
   "id": "b3249d79-42d8-4bab-a4d9-0661425d3bd5",
   "metadata": {},
   "source": []
  },
  {
   "cell_type": "code",
   "execution_count": null,
   "id": "c94682fd-4272-4eca-9342-8fde6fd39f3a",
   "metadata": {},
   "outputs": [],
   "source": []
  },
  {
   "cell_type": "raw",
   "id": "b0126970-cfa0-41a7-a609-aecb3575b609",
   "metadata": {},
   "source": []
  },
  {
   "cell_type": "code",
   "execution_count": null,
   "id": "441eb50d-a096-4d3c-9940-e8a5883d44cb",
   "metadata": {},
   "outputs": [],
   "source": []
  },
  {
   "cell_type": "code",
   "execution_count": null,
   "id": "fd91c2f2-31c2-4bc6-b067-428e52df4a35",
   "metadata": {},
   "outputs": [],
   "source": []
  },
  {
   "cell_type": "code",
   "execution_count": null,
   "id": "e7d1780b-96ad-4c87-b061-20de95008388",
   "metadata": {},
   "outputs": [],
   "source": []
  },
  {
   "cell_type": "code",
   "execution_count": 7,
   "id": "d8f85eb7-0981-4399-9aa7-f4e70b114a10",
   "metadata": {},
   "outputs": [
    {
     "name": "stdin",
     "output_type": "stream",
     "text": [
      "Quantos produtos deseja atualizar:  50\n"
     ]
    },
    {
     "ename": "KeyboardInterrupt",
     "evalue": "",
     "output_type": "error",
     "traceback": [
      "\u001b[1;31m---------------------------------------------------------------------------\u001b[0m",
      "\u001b[1;31mKeyboardInterrupt\u001b[0m                         Traceback (most recent call last)",
      "\u001b[1;32m~\\AppData\\Local\\Temp/ipykernel_10816/1443971152.py\u001b[0m in \u001b[0;36m<module>\u001b[1;34m\u001b[0m\n\u001b[0;32m     62\u001b[0m     \u001b[0mSelecionar_guia\u001b[0m\u001b[1;33m(\u001b[0m\u001b[1;33m)\u001b[0m\u001b[1;33m\u001b[0m\u001b[1;33m\u001b[0m\u001b[0m\n\u001b[0;32m     63\u001b[0m     \u001b[1;31m#Voltar para o menu\u001b[0m\u001b[1;33m\u001b[0m\u001b[1;33m\u001b[0m\u001b[0m\n\u001b[1;32m---> 64\u001b[1;33m     \u001b[0mVoltar\u001b[0m\u001b[1;33m(\u001b[0m\u001b[1;33m)\u001b[0m\u001b[1;33m\u001b[0m\u001b[1;33m\u001b[0m\u001b[0m\n\u001b[0m\u001b[0;32m     65\u001b[0m     \u001b[0mtime\u001b[0m\u001b[1;33m.\u001b[0m\u001b[0msleep\u001b[0m\u001b[1;33m(\u001b[0m\u001b[1;36m3\u001b[0m\u001b[1;33m)\u001b[0m\u001b[1;33m\u001b[0m\u001b[1;33m\u001b[0m\u001b[0m\n\u001b[0;32m     66\u001b[0m \u001b[1;33m\u001b[0m\u001b[0m\n",
      "\u001b[1;32m~\\AppData\\Local\\Temp/ipykernel_10816/1443971152.py\u001b[0m in \u001b[0;36mVoltar\u001b[1;34m()\u001b[0m\n\u001b[0;32m     36\u001b[0m \u001b[1;32mdef\u001b[0m \u001b[0mVoltar\u001b[0m\u001b[1;33m(\u001b[0m\u001b[1;33m)\u001b[0m\u001b[1;33m:\u001b[0m\u001b[1;33m\u001b[0m\u001b[1;33m\u001b[0m\u001b[0m\n\u001b[0;32m     37\u001b[0m     \u001b[0mpyautogui\u001b[0m\u001b[1;33m.\u001b[0m\u001b[0mclick\u001b[0m\u001b[1;33m(\u001b[0m\u001b[0mx\u001b[0m\u001b[1;33m=\u001b[0m\u001b[1;36m15\u001b[0m\u001b[1;33m,\u001b[0m \u001b[0my\u001b[0m\u001b[1;33m=\u001b[0m\u001b[1;36m50\u001b[0m\u001b[1;33m)\u001b[0m\u001b[1;33m\u001b[0m\u001b[1;33m\u001b[0m\u001b[0m\n\u001b[1;32m---> 38\u001b[1;33m     \u001b[0mtime\u001b[0m\u001b[1;33m.\u001b[0m\u001b[0msleep\u001b[0m\u001b[1;33m(\u001b[0m\u001b[1;36m5\u001b[0m\u001b[1;33m)\u001b[0m\u001b[1;33m\u001b[0m\u001b[1;33m\u001b[0m\u001b[0m\n\u001b[0m\u001b[0;32m     39\u001b[0m     \u001b[1;32mreturn\u001b[0m\u001b[1;33m\u001b[0m\u001b[1;33m\u001b[0m\u001b[0m\n\u001b[0;32m     40\u001b[0m \u001b[1;33m\u001b[0m\u001b[0m\n",
      "\u001b[1;31mKeyboardInterrupt\u001b[0m: "
     ]
    }
   ],
   "source": [
    "###############################################\n",
    "################## FILTROS  ###################\n",
    "###############################################\n",
    "\n",
    "#CALÇAS\n",
    "#SÓ MERCADO LIVRE\n",
    "#ATIVOS\n",
    "#SATISFATORIO\n",
    "\n",
    "###############################################\n",
    "################## INICIO #####################\n",
    "###############################################\n",
    "\n",
    "#Biblioteca\n",
    "import pyautogui\n",
    "import pyperclip\n",
    "import time\n",
    "pyautogui.PAUSE = 1\n",
    "\n",
    "\n",
    "r = int(input(\"Quantos produtos deseja atualizar: \"))\n",
    "#Função selecionar opção guia\n",
    "def Selecionar_guia():\n",
    "    time.sleep(5)\n",
    "    pyautogui.click(x=1337, y=556)\n",
    "    pyautogui.hotkey(\"ctrl\",\"f\")\n",
    "    pyautogui.write(\"guia de tamanhos\")\n",
    "    pyautogui.click(x=801, y=393)\n",
    "    pyautogui.click(x=127, y=482)\n",
    "    pyautogui.scroll(-800)\n",
    "    pyautogui.click(x=730, y=341)\n",
    "    time.sleep(10)\n",
    "    return\n",
    "\n",
    "#Função Voltar\n",
    "def Voltar():\n",
    "    pyautogui.click(x=15, y=50)\n",
    "    time.sleep(5)\n",
    "    return\n",
    "\n",
    "    \n",
    "#Abrir Pagina\n",
    "time.sleep(3)\n",
    "pyautogui.click(x=875, y=749)\n",
    "\n",
    "a = r-1\n",
    "for i in range(1,a):\n",
    "    time.sleep(3)\n",
    "    pyautogui.click(x=1337, y=556)\n",
    "    pyautogui.scroll(2000)\n",
    "    time.sleep(2)\n",
    "    pyautogui.hotkey(\"ctrl\",\"f5\")\n",
    "    time.sleep(5)\n",
    "    #Selecionando item\n",
    "    pyautogui.hotkey(\"ctrl\",\"f\")\n",
    "    pyautogui.write(\"Qualidade Satisfatoria\")\n",
    "    pyautogui.click(x=1282, y=450)\n",
    "    time.sleep(5)\n",
    "    pyautogui.click(x=1132, y=485)\n",
    "\n",
    "    #ADICIONAR GUIA\n",
    "    Selecionar_guia()\n",
    "    #Voltar para o menu\n",
    "    Voltar()\n",
    "    time.sleep(3)\n",
    "\n",
    "    \n",
    "##############################################\n",
    "#############      FIM       #################\n",
    "##############################################"
   ]
  },
  {
   "cell_type": "code",
   "execution_count": null,
   "id": "b144303b-5339-4ee7-8682-ee1b195ab9cb",
   "metadata": {},
   "outputs": [
    {
     "name": "stdout",
     "output_type": "stream",
     "text": [
      "1\n"
     ]
    }
   ],
   "source": [
    "print(a)"
   ]
  },
  {
   "cell_type": "code",
   "execution_count": 23,
   "id": "fe30107e-f44d-4215-978f-67851f3409a6",
   "metadata": {},
   "outputs": [],
   "source": [
    "\n",
    "#Biblioteca\n",
    "import pyautogui\n",
    "import pyperclip\n",
    "import time\n",
    "pyautogui.PAUSE = 1\n",
    "\n",
    "#Abrir Pagina\n",
    "time.sleep(3)\n",
    "pyautogui.click(x=875, y=749)\n",
    "\n",
    "pyautogui.click(x=1337, y=556)\n",
    "pyautogui.scroll(-1030)\n",
    "pyautogui.click(x=1271, y=435)\n",
    "pyautogui.click(x=1084, y=475)"
   ]
  },
  {
   "cell_type": "code",
   "execution_count": 5,
   "id": "5e084284-a83e-4414-bd1e-d30c20a010b9",
   "metadata": {},
   "outputs": [
    {
     "data": {
      "text/plain": [
       "Point(x=1132, y=485)"
      ]
     },
     "execution_count": 5,
     "metadata": {},
     "output_type": "execute_result"
    }
   ],
   "source": [
    "import pyautogui\n",
    "import pyperclip\n",
    "import time\n",
    "time.sleep(5)\n",
    "pyautogui.position()"
   ]
  },
  {
   "cell_type": "code",
   "execution_count": 61,
   "id": "68edbd8d-4154-449a-a82f-f0bc73a4a430",
   "metadata": {},
   "outputs": [
    {
     "name": "stdout",
     "output_type": "stream",
     "text": [
      "-274\n"
     ]
    }
   ],
   "source": [
    "print(s)"
   ]
  },
  {
   "cell_type": "code",
   "execution_count": 74,
   "id": "f3bc4fab-9ffc-48a2-aeb1-89788b5ea55c",
   "metadata": {},
   "outputs": [
    {
     "name": "stdout",
     "output_type": "stream",
     "text": [
      "-253\n",
      "-256\n",
      "-259\n",
      "-262\n",
      "-265\n",
      "-268\n",
      "-268\n",
      "-268\n",
      "-268\n"
     ]
    }
   ],
   "source": []
  },
  {
   "cell_type": "code",
   "execution_count": null,
   "id": "f16ca832-055e-4ee2-ac7f-4afde45ed18d",
   "metadata": {},
   "outputs": [],
   "source": []
  },
  {
   "cell_type": "code",
   "execution_count": null,
   "id": "8ed43956-c954-4537-ad41-6ae997a32722",
   "metadata": {},
   "outputs": [],
   "source": []
  },
  {
   "cell_type": "code",
   "execution_count": null,
   "id": "f4f66a49-27b6-4b31-98bc-968bd2d90a53",
   "metadata": {},
   "outputs": [],
   "source": []
  }
 ],
 "metadata": {
  "kernelspec": {
   "display_name": "Python 3 (ipykernel)",
   "language": "python",
   "name": "python3"
  },
  "language_info": {
   "codemirror_mode": {
    "name": "ipython",
    "version": 3
   },
   "file_extension": ".py",
   "mimetype": "text/x-python",
   "name": "python",
   "nbconvert_exporter": "python",
   "pygments_lexer": "ipython3",
   "version": "3.9.7"
  }
 },
 "nbformat": 4,
 "nbformat_minor": 5
}
