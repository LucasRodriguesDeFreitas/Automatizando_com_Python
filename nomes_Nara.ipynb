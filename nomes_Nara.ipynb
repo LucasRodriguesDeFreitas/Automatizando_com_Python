{
 "cells": [
  {
   "cell_type": "code",
   "execution_count": 1,
   "id": "d8f85eb7-0981-4399-9aa7-f4e70b114a10",
   "metadata": {},
   "outputs": [],
   "source": [
    "##################################################################\n",
    "#####             Trocar o nome na hora de anunciar          #####\n",
    "##################################################################\n",
    "\n",
    "\n",
    "#Biblioteca\n",
    "import pyautogui\n",
    "import pyperclip\n",
    "import time\n",
    "import pandas as pd\n",
    "import openpyxl\n",
    "pyautogui.PAUSE = 1\n",
    "\n",
    "\n",
    "#################FUNÇÕES DA APLICAÇÃO###################\n",
    "\n",
    "def click_text1():\n",
    "    pyautogui.click(x=547, y=556)\n",
    "    return\n",
    "    \n",
    "#############FIM DAS FUNÇÕES DA APLICAÇÃO###############\n",
    "\n",
    "\n",
    "##NOME POSTAGEM\n",
    "tabela = pd.read_excel(\"Lista_Nara.xlsx\")\n",
    "\n",
    "nomes = tabela[ 'NOME_DO_PRODUTO' ] \n",
    "\n",
    "#Abrir Pagina\n",
    "time.sleep(3)\n",
    "pyautogui.click(x=875, y=749)\n",
    "#click_text1()\n",
    "for i in range(1, 22):\n",
    "    pyautogui.press(\"right\")\n",
    "    pyautogui.hotkey('Ctrl','a')                                                                                                                                                                       \n",
    "    pyautogui.press('delete')\n",
    "    pyperclip.copy(nomes[i])\n",
    "    pyperclip.paste\n",
    "    pyautogui.hotkey('Ctrl','v')\n",
    "    pyautogui.write(\" #102\")                                                                                  \n",
    "    pyautogui.press('tab', presses=22)                                                                                                                 \n",
    "                                                                                     \n",
    "\n",
    "######################################################\n",
    "#####                    FIM                     #####\n",
    "######################################################"
   ]
  },
  {
   "cell_type": "markdown",
   "id": "1cde396d-1f81-44be-a388-6987896b4148",
   "metadata": {},
   "source": [
    "# "
   ]
  },
  {
   "cell_type": "code",
   "execution_count": null,
   "id": "7709b142-a5d0-4b88-b5e5-e5aae85a04ec",
   "metadata": {},
   "outputs": [],
   "source": []
  },
  {
   "cell_type": "raw",
   "id": "ed8f1bc2-fa3d-4566-be69-3529302a497c",
   "metadata": {},
   "source": []
  },
  {
   "cell_type": "code",
   "execution_count": null,
   "id": "4e86bf83-6ec0-4562-a0c5-ef05d20bef21",
   "metadata": {},
   "outputs": [],
   "source": []
  },
  {
   "cell_type": "code",
   "execution_count": null,
   "id": "0bbd7e69-c1dd-4261-9d64-be045301135e",
   "metadata": {},
   "outputs": [],
   "source": []
  },
  {
   "cell_type": "code",
   "execution_count": null,
   "id": "b144303b-5339-4ee7-8682-ee1b195ab9cb",
   "metadata": {},
   "outputs": [],
   "source": []
  },
  {
   "cell_type": "code",
   "execution_count": null,
   "id": "be15963a-007e-4df3-a3e5-d6a68c251fc0",
   "metadata": {},
   "outputs": [],
   "source": []
  },
  {
   "cell_type": "code",
   "execution_count": 13,
   "id": "fe30107e-f44d-4215-978f-67851f3409a6",
   "metadata": {},
   "outputs": [
    {
     "data": {
      "text/plain": [
       "Point(x=532, y=316)"
      ]
     },
     "execution_count": 13,
     "metadata": {},
     "output_type": "execute_result"
    }
   ],
   "source": [
    "import pyautogui\n",
    "import pyperclip\n",
    "import time\n",
    "time.sleep(5)\n",
    "pyautogui.position()"
   ]
  },
  {
   "cell_type": "code",
   "execution_count": null,
   "id": "5e084284-a83e-4414-bd1e-d30c20a010b9",
   "metadata": {},
   "outputs": [],
   "source": []
  }
 ],
 "metadata": {
  "kernelspec": {
   "display_name": "Python 3 (ipykernel)",
   "language": "python",
   "name": "python3"
  },
  "language_info": {
   "codemirror_mode": {
    "name": "ipython",
    "version": 3
   },
   "file_extension": ".py",
   "mimetype": "text/x-python",
   "name": "python",
   "nbconvert_exporter": "python",
   "pygments_lexer": "ipython3",
   "version": "3.9.7"
  }
 },
 "nbformat": 4,
 "nbformat_minor": 5
}
