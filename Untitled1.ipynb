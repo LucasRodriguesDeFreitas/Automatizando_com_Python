{
 "cells": [
  {
   "cell_type": "code",
   "execution_count": 21,
   "id": "d0237f15-db5d-49f6-90b1-4225b9a37c9b",
   "metadata": {},
   "outputs": [
    {
     "name": "stderr",
     "output_type": "stream",
     "text": [
      "\n",
      "    Error 263 for command:\n",
      "        close audio.mp3\n",
      "    The specified device is not open or is not recognized by MCI.\n",
      "Failed to close the file: audio.mp3\n"
     ]
    }
   ],
   "source": [
    "from gtts import gTTS\n",
    "from playsound import playsound\n",
    "\n",
    "audio = 'audio.mp3'\n",
    "language = 'pt-br'\n",
    "\n",
    "sp = gTTS(\n",
    "    text='Curta e Siga para mais dicas',\n",
    "    lang = language\n",
    ")\n",
    "\n",
    "sp.save(audio)\n",
    "playsound(audio)"
   ]
  },
  {
   "cell_type": "code",
   "execution_count": null,
   "id": "775f36b1-4a3b-41e4-a604-a27a4c2bc163",
   "metadata": {},
   "outputs": [],
   "source": []
  },
  {
   "cell_type": "code",
   "execution_count": null,
   "id": "98de91d1-9c14-40fe-8340-bc1dacafc7ce",
   "metadata": {},
   "outputs": [],
   "source": []
  }
 ],
 "metadata": {
  "kernelspec": {
   "display_name": "Python 3 (ipykernel)",
   "language": "python",
   "name": "python3"
  },
  "language_info": {
   "codemirror_mode": {
    "name": "ipython",
    "version": 3
   },
   "file_extension": ".py",
   "mimetype": "text/x-python",
   "name": "python",
   "nbconvert_exporter": "python",
   "pygments_lexer": "ipython3",
   "version": "3.9.7"
  }
 },
 "nbformat": 4,
 "nbformat_minor": 5
}
